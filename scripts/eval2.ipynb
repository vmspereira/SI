{
 "cells": [
  {
   "cell_type": "markdown",
   "metadata": {},
   "source": [
    "# Linear Regression"
   ]
  },
  {
   "cell_type": "code",
   "execution_count": 1,
   "metadata": {},
   "outputs": [],
   "source": [
    "from si.data import Dataset, summary,StandardScaler\n",
    "from si.supervised import LinearRegression\n",
    "import numpy as np\n",
    "import os"
   ]
  },
  {
   "cell_type": "code",
   "execution_count": 2,
   "metadata": {},
   "outputs": [
    {
     "data": {
      "text/html": [
       "<div>\n",
       "<style scoped>\n",
       "    .dataframe tbody tr th:only-of-type {\n",
       "        vertical-align: middle;\n",
       "    }\n",
       "\n",
       "    .dataframe tbody tr th {\n",
       "        vertical-align: top;\n",
       "    }\n",
       "\n",
       "    .dataframe thead th {\n",
       "        text-align: right;\n",
       "    }\n",
       "</style>\n",
       "<table border=\"1\" class=\"dataframe\">\n",
       "  <thead>\n",
       "    <tr style=\"text-align: right;\">\n",
       "      <th></th>\n",
       "      <th>A</th>\n",
       "      <th>B</th>\n",
       "      <th>C</th>\n",
       "      <th>D</th>\n",
       "      <th>E</th>\n",
       "      <th>F</th>\n",
       "      <th>G</th>\n",
       "      <th>H</th>\n",
       "      <th>I</th>\n",
       "      <th>J</th>\n",
       "      <th>K</th>\n",
       "      <th>L</th>\n",
       "      <th>M</th>\n",
       "      <th>y</th>\n",
       "    </tr>\n",
       "  </thead>\n",
       "  <tbody>\n",
       "    <tr>\n",
       "      <th>mean</th>\n",
       "      <td>3.651400e-16</td>\n",
       "      <td>-9.539694e-17</td>\n",
       "      <td>4.276415e-17</td>\n",
       "      <td>5.394862e-16</td>\n",
       "      <td>-2.500058e-16</td>\n",
       "      <td>6.908054e-17</td>\n",
       "      <td>8.223874e-17</td>\n",
       "      <td>1.644775e-17</td>\n",
       "      <td>5.098802e-17</td>\n",
       "      <td>7.204114e-16</td>\n",
       "      <td>-1.266477e-16</td>\n",
       "      <td>-6.579099e-17</td>\n",
       "      <td>7.565964e-17</td>\n",
       "      <td>0.444444</td>\n",
       "    </tr>\n",
       "    <tr>\n",
       "      <th>var</th>\n",
       "      <td>1.000000e+00</td>\n",
       "      <td>1.000000e+00</td>\n",
       "      <td>1.000000e+00</td>\n",
       "      <td>1.000000e+00</td>\n",
       "      <td>1.000000e+00</td>\n",
       "      <td>1.000000e+00</td>\n",
       "      <td>1.000000e+00</td>\n",
       "      <td>1.000000e+00</td>\n",
       "      <td>1.000000e+00</td>\n",
       "      <td>1.000000e+00</td>\n",
       "      <td>1.000000e+00</td>\n",
       "      <td>1.000000e+00</td>\n",
       "      <td>1.000000e+00</td>\n",
       "      <td>0.246914</td>\n",
       "    </tr>\n",
       "    <tr>\n",
       "      <th>min</th>\n",
       "      <td>-2.797275e+00</td>\n",
       "      <td>-1.450327e+00</td>\n",
       "      <td>-2.292532e+00</td>\n",
       "      <td>-2.094649e+00</td>\n",
       "      <td>-2.396942e+00</td>\n",
       "      <td>-4.170288e-01</td>\n",
       "      <td>-1.026285e+00</td>\n",
       "      <td>-3.402609e+00</td>\n",
       "      <td>-7.012223e-01</td>\n",
       "      <td>-9.185652e-01</td>\n",
       "      <td>-9.542343e-01</td>\n",
       "      <td>-7.115349e-01</td>\n",
       "      <td>-8.757058e-01</td>\n",
       "      <td>0.000000</td>\n",
       "    </tr>\n",
       "    <tr>\n",
       "      <th>max</th>\n",
       "      <td>2.481986e+00</td>\n",
       "      <td>6.894997e-01</td>\n",
       "      <td>8.709276e-01</td>\n",
       "      <td>3.850888e+00</td>\n",
       "      <td>6.093004e+00</td>\n",
       "      <td>2.397916e+00</td>\n",
       "      <td>9.816636e-01</td>\n",
       "      <td>2.262800e+00</td>\n",
       "      <td>1.426081e+00</td>\n",
       "      <td>4.505343e+00</td>\n",
       "      <td>2.307073e+00</td>\n",
       "      <td>2.472682e+00</td>\n",
       "      <td>1.189277e+00</td>\n",
       "      <td>1.000000</td>\n",
       "    </tr>\n",
       "  </tbody>\n",
       "</table>\n",
       "</div>"
      ],
      "text/plain": [
       "                 A             B             C             D             E  \\\n",
       "mean  3.651400e-16 -9.539694e-17  4.276415e-17  5.394862e-16 -2.500058e-16   \n",
       "var   1.000000e+00  1.000000e+00  1.000000e+00  1.000000e+00  1.000000e+00   \n",
       "min  -2.797275e+00 -1.450327e+00 -2.292532e+00 -2.094649e+00 -2.396942e+00   \n",
       "max   2.481986e+00  6.894997e-01  8.709276e-01  3.850888e+00  6.093004e+00   \n",
       "\n",
       "                 F             G             H             I             J  \\\n",
       "mean  6.908054e-17  8.223874e-17  1.644775e-17  5.098802e-17  7.204114e-16   \n",
       "var   1.000000e+00  1.000000e+00  1.000000e+00  1.000000e+00  1.000000e+00   \n",
       "min  -4.170288e-01 -1.026285e+00 -3.402609e+00 -7.012223e-01 -9.185652e-01   \n",
       "max   2.397916e+00  9.816636e-01  2.262800e+00  1.426081e+00  4.505343e+00   \n",
       "\n",
       "                 K             L             M         y  \n",
       "mean -1.266477e-16 -6.579099e-17  7.565964e-17  0.444444  \n",
       "var   1.000000e+00  1.000000e+00  1.000000e+00  0.246914  \n",
       "min  -9.542343e-01 -7.115349e-01 -8.757058e-01  0.000000  \n",
       "max   2.307073e+00  2.472682e+00  1.189277e+00  1.000000  "
      ]
     },
     "execution_count": 2,
     "metadata": {},
     "output_type": "execute_result"
    }
   ],
   "source": [
    "DIR = os.path.dirname(os.path.realpath('.'))\n",
    "filename = os.path.join(DIR, 'datasets/hearts.data')\n",
    "dataset = Dataset.from_data(filename, labeled=True)\n",
    "StandardScaler().fit_transform(dataset,inline=True)\n",
    "summary(dataset)"
   ]
  },
  {
   "cell_type": "code",
   "execution_count": 3,
   "metadata": {},
   "outputs": [],
   "source": [
    "import matplotlib.pyplot as plt\n",
    "%matplotlib inline\n",
    "if dataset.X.shape[1]==1:\n",
    "    plt.scatter(dataset.X, dataset.y)\n",
    "    plt.show()\n"
   ]
  },
  {
   "cell_type": "markdown",
   "metadata": {},
   "source": [
    "## Linear Regression without regularization using closed form "
   ]
  },
  {
   "cell_type": "code",
   "execution_count": 4,
   "metadata": {},
   "outputs": [
    {
     "name": "stdout",
     "output_type": "stream",
     "text": [
      "Theta =  [ 0.44444444 -0.01695213  0.07450927  0.08901536  0.0365427   0.0310992\n",
      " -0.02876549  0.03925668 -0.06292523  0.05416595  0.04990739  0.02920038\n",
      "  0.12734696  0.11518954]\n"
     ]
    }
   ],
   "source": [
    "lr = LinearRegression(ldb=0)\n",
    "lr.fit(dataset)\n",
    "print('Theta = ', lr.theta)"
   ]
  },
  {
   "cell_type": "code",
   "execution_count": 5,
   "metadata": {},
   "outputs": [
    {
     "name": "stdout",
     "output_type": "stream",
     "text": [
      "x =  [-1.14750596  0.6894997   0.87092765 -1.19720918 -1.02071753 -0.41702883\n",
      "  0.98166365  1.18161506 -0.7012223  -0.91856516 -0.95423434  0.34987077\n",
      " -0.87570581]\n",
      "y_pred =  0.32547717181757513\n",
      "y_true =  1.0\n"
     ]
    }
   ],
   "source": [
    "idx = 3\n",
    "x = dataset.X[idx]\n",
    "print(\"x = \",x)\n",
    "y = dataset.y[idx]\n",
    "y_pred = lr.predict(x)\n",
    "print(\"y_pred = \",y_pred)\n",
    "print(\"y_true = \", y)\n"
   ]
  },
  {
   "cell_type": "code",
   "execution_count": 6,
   "metadata": {},
   "outputs": [
    {
     "data": {
      "text/plain": [
       "0.05614225302212008"
      ]
     },
     "execution_count": 6,
     "metadata": {},
     "output_type": "execute_result"
    }
   ],
   "source": [
    "lr.cost()"
   ]
  },
  {
   "cell_type": "code",
   "execution_count": 7,
   "metadata": {},
   "outputs": [],
   "source": [
    "if dataset.X.shape[1] == 1:\n",
    "    plt.scatter(dataset.X, dataset.y)\n",
    "    plt.plot(lr.X[:,1], np.dot(lr.X, lr.theta), '-', color='red')\n",
    "    plt.show()\n"
   ]
  },
  {
   "cell_type": "markdown",
   "metadata": {},
   "source": [
    "## Linear Regression using gradient descent"
   ]
  },
  {
   "cell_type": "code",
   "execution_count": 8,
   "metadata": {},
   "outputs": [
    {
     "name": "stdout",
     "output_type": "stream",
     "text": [
      "Theta =  [ 0.44444444 -0.01695213  0.07450927  0.08901536  0.0365427   0.0310992\n",
      " -0.02876549  0.03925668 -0.06292523  0.05416595  0.04990739  0.02920038\n",
      "  0.12734696  0.11518954]\n"
     ]
    }
   ],
   "source": [
    "lr = LinearRegression(ldb=0,gd=True,epochs=50000)\n",
    "lr.fit(dataset)\n",
    "print('Theta = ', lr.theta)"
   ]
  },
  {
   "cell_type": "code",
   "execution_count": 9,
   "metadata": {},
   "outputs": [
    {
     "data": {
      "image/png": "[encoded data removed]",
      "text/plain": [
       "<Figure size 432x288 with 1 Axes>"
      ]
     },
     "metadata": {
      "needs_background": "light"
     },
     "output_type": "display_data"
    }
   ],
   "source": [
    "plt.plot(list(lr.history.keys()), [ y[1] for y in lr.history.values()], '-', color='red')\n",
    "plt.title('Cost')\n",
    "plt.show()"
   ]
  },
  {
   "cell_type": "code",
   "execution_count": 10,
   "metadata": {},
   "outputs": [
    {
     "data": {
      "text/plain": [
       "0.05614225302212007"
      ]
     },
     "execution_count": 10,
     "metadata": {},
     "output_type": "execute_result"
    }
   ],
   "source": [
    "lr.cost()"
   ]
  },
  {
   "cell_type": "markdown",
   "metadata": {},
   "source": [
    "# Linear Regression with Regularization"
   ]
  },
  {
   "cell_type": "code",
   "execution_count": 11,
   "metadata": {},
   "outputs": [
    {
     "name": "stdout",
     "output_type": "stream",
     "text": [
      "Theta =  [ 0.44444444 -0.01658639  0.0743626   0.08886214  0.03635081  0.03099407\n",
      " -0.0286115   0.0391624  -0.06274796  0.05423135  0.04997226  0.02922547\n",
      "  0.12689304  0.11495584]\n"
     ]
    }
   ],
   "source": [
    "lr = LinearRegression()\n",
    "lr.fit(dataset)\n",
    "print('Theta = ', lr.theta)\n"
   ]
  },
  {
   "cell_type": "code",
   "execution_count": 12,
   "metadata": {},
   "outputs": [
    {
     "name": "stdout",
     "output_type": "stream",
     "text": [
      "x =  [ 0.2822938  -1.45032695  0.87092765 -0.63630951  2.02248236 -0.41702883\n",
      " -1.02628472  0.57615147  1.4260813  -0.39367078 -0.95423434 -0.71153494\n",
      " -0.87570581]\n",
      "y_pred =  0.2232683435069513\n",
      "y_true =  0.0\n"
     ]
    }
   ],
   "source": [
    "idx = 1\n",
    "x = dataset.X[idx]\n",
    "print(\"x = \", x)\n",
    "y = dataset.y[idx]\n",
    "y_pred = lr.predict(x)\n",
    "print(\"y_pred = \", y_pred)\n",
    "print(\"y_true = \", y)\n"
   ]
  },
  {
   "cell_type": "code",
   "execution_count": 13,
   "metadata": {},
   "outputs": [
    {
     "data": {
      "text/plain": [
       "0.05614250670273697"
      ]
     },
     "execution_count": 13,
     "metadata": {},
     "output_type": "execute_result"
    }
   ],
   "source": [
    "lr.cost()"
   ]
  },
  {
   "cell_type": "markdown",
   "metadata": {},
   "source": [
    "# Logistic Regression without regularization"
   ]
  },
  {
   "cell_type": "code",
   "execution_count": 14,
   "metadata": {},
   "outputs": [],
   "source": [
    "from si.supervised import LogisticRegression\n",
    "import pandas as pd"
   ]
  },
  {
   "cell_type": "code",
   "execution_count": 15,
   "metadata": {},
   "outputs": [
    {
     "data": {
      "text/html": [
       "<div>\n",
       "<style scoped>\n",
       "    .dataframe tbody tr th:only-of-type {\n",
       "        vertical-align: middle;\n",
       "    }\n",
       "\n",
       "    .dataframe tbody tr th {\n",
       "        vertical-align: top;\n",
       "    }\n",
       "\n",
       "    .dataframe thead th {\n",
       "        text-align: right;\n",
       "    }\n",
       "</style>\n",
       "<table border=\"1\" class=\"dataframe\">\n",
       "  <thead>\n",
       "    <tr style=\"text-align: right;\">\n",
       "      <th></th>\n",
       "      <th>A</th>\n",
       "      <th>B</th>\n",
       "      <th>y</th>\n",
       "    </tr>\n",
       "  </thead>\n",
       "  <tbody>\n",
       "    <tr>\n",
       "      <th>mean</th>\n",
       "      <td>5.843333</td>\n",
       "      <td>3.054000</td>\n",
       "      <td>0.666667</td>\n",
       "    </tr>\n",
       "    <tr>\n",
       "      <th>var</th>\n",
       "      <td>0.681122</td>\n",
       "      <td>0.186751</td>\n",
       "      <td>0.222222</td>\n",
       "    </tr>\n",
       "    <tr>\n",
       "      <th>min</th>\n",
       "      <td>4.300000</td>\n",
       "      <td>2.000000</td>\n",
       "      <td>0.000000</td>\n",
       "    </tr>\n",
       "    <tr>\n",
       "      <th>max</th>\n",
       "      <td>7.900000</td>\n",
       "      <td>4.400000</td>\n",
       "      <td>1.000000</td>\n",
       "    </tr>\n",
       "  </tbody>\n",
       "</table>\n",
       "</div>"
      ],
      "text/plain": [
       "             A         B         y\n",
       "mean  5.843333  3.054000  0.666667\n",
       "var   0.681122  0.186751  0.222222\n",
       "min   4.300000  2.000000  0.000000\n",
       "max   7.900000  4.400000  1.000000"
      ]
     },
     "execution_count": 15,
     "metadata": {},
     "output_type": "execute_result"
    }
   ],
   "source": [
    "filename = os.path.join(DIR, 'datasets/iris.data')\n",
    "df = pd.read_csv(filename)\n",
    "iris = Dataset.from_dataframe(df,ylabel=\"class\")\n",
    "y = [int(x != 'Iris-setosa') for x in iris.y]\n",
    "dataset = Dataset(iris.X[:,:2],np.array(y))\n",
    "summary(dataset)"
   ]
  },
  {
   "cell_type": "code",
   "execution_count": 16,
   "metadata": {},
   "outputs": [
    {
     "data": {
      "image/png": "[encoded data removed]",
      "text/plain": [
       "<Figure size 432x288 with 1 Axes>"
      ]
     },
     "metadata": {
      "needs_background": "light"
     },
     "output_type": "display_data"
    }
   ],
   "source": [
    "plt.scatter(dataset.X[:,0], dataset.X[:,1],c=dataset.y)\n",
    "plt.show()"
   ]
  },
  {
   "cell_type": "code",
   "execution_count": 17,
   "metadata": {},
   "outputs": [],
   "source": [
    "logreg = LogisticRegression(lbd=0, epochs=100000)"
   ]
  },
  {
   "cell_type": "code",
   "execution_count": 18,
   "metadata": {},
   "outputs": [
    {
     "data": {
      "text/plain": [
       "array([-14.5742557 ,   9.38804814, -11.67863334])"
      ]
     },
     "execution_count": 18,
     "metadata": {},
     "output_type": "execute_result"
    }
   ],
   "source": [
    "logreg.fit(dataset)\n",
    "logreg.theta"
   ]
  },
  {
   "cell_type": "code",
   "execution_count": 19,
   "metadata": {},
   "outputs": [
    {
     "data": {
      "image/png": "[encoded data removed]",
      "text/plain": [
       "<Figure size 432x288 with 1 Axes>"
      ]
     },
     "metadata": {
      "needs_background": "light"
     },
     "output_type": "display_data"
    }
   ],
   "source": [
    "plt.scatter(dataset.X[:,0], dataset.X[:,1],c=dataset.y)\n",
    "_x = np.linspace(min(dataset.X[:,0]),max(dataset.X[:,0]),2)\n",
    "_y = [(-logreg.theta[0]-logreg.theta[1]*x)/logreg.theta[2] for x in _x]\n",
    "plt.plot(_x, _y, '-', color='red')\n",
    "plt.show()"
   ]
  },
  {
   "cell_type": "code",
   "execution_count": 20,
   "metadata": {},
   "outputs": [
    {
     "data": {
      "image/png": "[encoded data removed]",
      "text/plain": [
       "<Figure size 432x288 with 1 Axes>"
      ]
     },
     "metadata": {
      "needs_background": "light"
     },
     "output_type": "display_data"
    }
   ],
   "source": [
    "plt.plot(list(logreg.history.keys()), [ y[1] for y in logreg.history.values()], '-', color='red')\n",
    "plt.title('Cost')\n",
    "plt.show()"
   ]
  },
  {
   "cell_type": "code",
   "execution_count": 21,
   "metadata": {},
   "outputs": [
    {
     "data": {
      "text/plain": [
       "0.015303769863203613"
      ]
     },
     "execution_count": 21,
     "metadata": {},
     "output_type": "execute_result"
    }
   ],
   "source": [
    "logreg.cost()"
   ]
  },
  {
   "cell_type": "code",
   "execution_count": 22,
   "metadata": {},
   "outputs": [
    {
     "name": "stdout",
     "output_type": "stream",
     "text": [
      "Pred. example: 1\n"
     ]
    }
   ],
   "source": [
    "ex = np.array([5.5, 2])\n",
    "print(\"Pred. example:\", logreg.predict(ex))\n"
   ]
  },
  {
   "cell_type": "markdown",
   "metadata": {},
   "source": [
    "# Logistic Regression with L2 regularization"
   ]
  },
  {
   "cell_type": "code",
   "execution_count": 23,
   "metadata": {},
   "outputs": [
    {
     "data": {
      "text/plain": [
       "array([-4.34883596,  2.88946771, -3.57253988])"
      ]
     },
     "execution_count": 23,
     "metadata": {},
     "output_type": "execute_result"
    }
   ],
   "source": [
    "logreg = LogisticRegression()\n",
    "logreg.fit(dataset)\n",
    "logreg.theta"
   ]
  },
  {
   "cell_type": "code",
   "execution_count": 24,
   "metadata": {},
   "outputs": [
    {
     "data": {
      "image/png": "[encoded data removed]",
      "text/plain": [
       "<Figure size 432x288 with 1 Axes>"
      ]
     },
     "metadata": {
      "needs_background": "light"
     },
     "output_type": "display_data"
    }
   ],
   "source": [
    "plt.scatter(dataset.X[:,0], dataset.X[:,1],c=dataset.y)\n",
    "_x = np.linspace(min(dataset.X[:,0]),max(dataset.X[:,0]),2)\n",
    "_y = [(-logreg.theta[0]-logreg.theta[1]*x)/logreg.theta[2] for x in _x]\n",
    "plt.plot(_x, _y, '-', color='red')\n",
    "plt.show()"
   ]
  },
  {
   "cell_type": "code",
   "execution_count": 25,
   "metadata": {},
   "outputs": [
    {
     "name": "stdout",
     "output_type": "stream",
     "text": [
      "Pred. example: 1\n"
     ]
    }
   ],
   "source": [
    "ex = np.array([5.5, 2])\n",
    "print(\"Pred. example:\", logreg.predict(ex))\n"
   ]
  },
  {
   "cell_type": "markdown",
   "metadata": {},
   "source": [
    "# Cross-validation"
   ]
  },
  {
   "cell_type": "code",
   "execution_count": 26,
   "metadata": {},
   "outputs": [],
   "source": [
    "from si.util import CrossValidationScore"
   ]
  },
  {
   "cell_type": "code",
   "execution_count": 27,
   "metadata": {},
   "outputs": [
    {
     "data": {
      "text/html": [
       "<div>\n",
       "<style scoped>\n",
       "    .dataframe tbody tr th:only-of-type {\n",
       "        vertical-align: middle;\n",
       "    }\n",
       "\n",
       "    .dataframe tbody tr th {\n",
       "        vertical-align: top;\n",
       "    }\n",
       "\n",
       "    .dataframe thead th {\n",
       "        text-align: right;\n",
       "    }\n",
       "</style>\n",
       "<table border=\"1\" class=\"dataframe\">\n",
       "  <thead>\n",
       "    <tr style=\"text-align: right;\">\n",
       "      <th></th>\n",
       "      <th>Train Scores</th>\n",
       "      <th>Test Scores</th>\n",
       "    </tr>\n",
       "  </thead>\n",
       "  <tbody>\n",
       "    <tr>\n",
       "      <th>0</th>\n",
       "      <td>0.201250</td>\n",
       "      <td>0.418939</td>\n",
       "    </tr>\n",
       "    <tr>\n",
       "      <th>1</th>\n",
       "      <td>0.203671</td>\n",
       "      <td>0.415312</td>\n",
       "    </tr>\n",
       "    <tr>\n",
       "      <th>2</th>\n",
       "      <td>0.198909</td>\n",
       "      <td>0.432771</td>\n",
       "    </tr>\n",
       "    <tr>\n",
       "      <th>3</th>\n",
       "      <td>0.201065</td>\n",
       "      <td>0.423999</td>\n",
       "    </tr>\n",
       "    <tr>\n",
       "      <th>4</th>\n",
       "      <td>0.203591</td>\n",
       "      <td>0.412542</td>\n",
       "    </tr>\n",
       "  </tbody>\n",
       "</table>\n",
       "</div>"
      ],
      "text/plain": [
       "   Train Scores  Test Scores\n",
       "0      0.201250     0.418939\n",
       "1      0.203671     0.415312\n",
       "2      0.198909     0.432771\n",
       "3      0.201065     0.423999\n",
       "4      0.203591     0.412542"
      ]
     },
     "execution_count": 27,
     "metadata": {},
     "output_type": "execute_result"
    }
   ],
   "source": [
    "logreg = LogisticRegression(epochs=1000)\n",
    "cv = CrossValidationScore(logreg,dataset,cv=5)\n",
    "cv.run()\n",
    "cv.toDataframe()"
   ]
  },
  {
   "cell_type": "code",
   "execution_count": 28,
   "metadata": {},
   "outputs": [
    {
     "data": {
      "text/html": [
       "<div>\n",
       "<style scoped>\n",
       "    .dataframe tbody tr th:only-of-type {\n",
       "        vertical-align: middle;\n",
       "    }\n",
       "\n",
       "    .dataframe tbody tr th {\n",
       "        vertical-align: top;\n",
       "    }\n",
       "\n",
       "    .dataframe thead th {\n",
       "        text-align: right;\n",
       "    }\n",
       "</style>\n",
       "<table border=\"1\" class=\"dataframe\">\n",
       "  <thead>\n",
       "    <tr style=\"text-align: right;\">\n",
       "      <th></th>\n",
       "      <th>Train Scores</th>\n",
       "      <th>Test Scores</th>\n",
       "    </tr>\n",
       "  </thead>\n",
       "  <tbody>\n",
       "    <tr>\n",
       "      <th>0</th>\n",
       "      <td>0.171518</td>\n",
       "      <td>0.280129</td>\n",
       "    </tr>\n",
       "    <tr>\n",
       "      <th>1</th>\n",
       "      <td>0.177422</td>\n",
       "      <td>0.265093</td>\n",
       "    </tr>\n",
       "    <tr>\n",
       "      <th>2</th>\n",
       "      <td>0.177624</td>\n",
       "      <td>0.267040</td>\n",
       "    </tr>\n",
       "    <tr>\n",
       "      <th>3</th>\n",
       "      <td>0.176511</td>\n",
       "      <td>0.264525</td>\n",
       "    </tr>\n",
       "  </tbody>\n",
       "</table>\n",
       "</div>"
      ],
      "text/plain": [
       "   Train Scores  Test Scores\n",
       "0      0.171518     0.280129\n",
       "1      0.177422     0.265093\n",
       "2      0.177624     0.267040\n",
       "3      0.176511     0.264525"
      ]
     },
     "execution_count": 28,
     "metadata": {},
     "output_type": "execute_result"
    }
   ],
   "source": [
    "logreg = LogisticRegression(epochs=500, lbd=0.5)\n",
    "cv = CrossValidationScore(logreg, dataset, cv=4)\n",
    "cv.run()\n",
    "cv.toDataframe()"
   ]
  },
  {
   "cell_type": "markdown",
   "metadata": {},
   "source": [
    "# Grid Search with Cross-Validation"
   ]
  },
  {
   "cell_type": "code",
   "execution_count": 29,
   "metadata": {},
   "outputs": [],
   "source": [
    "from si.util import GridSearchCV"
   ]
  },
  {
   "cell_type": "code",
   "execution_count": 30,
   "metadata": {},
   "outputs": [],
   "source": [
    "parameters ={'epochs':[100,200,400,800,1000],'lbd':[0,0.2,0.4,0.6]}\n",
    "gs = GridSearchCV(logreg, dataset, parameters, cv=3, split=0.8)\n",
    "gs.run()\n",
    "df = gs.toDataframe()"
   ]
  },
  {
   "cell_type": "code",
   "execution_count": 31,
   "metadata": {},
   "outputs": [
    {
     "data": {
      "text/html": [
       "<div>\n",
       "<style scoped>\n",
       "    .dataframe tbody tr th:only-of-type {\n",
       "        vertical-align: middle;\n",
       "    }\n",
       "\n",
       "    .dataframe tbody tr th {\n",
       "        vertical-align: top;\n",
       "    }\n",
       "\n",
       "    .dataframe thead th {\n",
       "        text-align: right;\n",
       "    }\n",
       "</style>\n",
       "<table border=\"1\" class=\"dataframe\">\n",
       "  <thead>\n",
       "    <tr style=\"text-align: right;\">\n",
       "      <th></th>\n",
       "      <th>epochs</th>\n",
       "      <th>lbd</th>\n",
       "      <th>CV_1 train</th>\n",
       "      <th>CV_1 test</th>\n",
       "      <th>CV_2 train</th>\n",
       "      <th>CV_2 test</th>\n",
       "      <th>CV_3 train</th>\n",
       "      <th>CV_3 test</th>\n",
       "    </tr>\n",
       "  </thead>\n",
       "  <tbody>\n",
       "    <tr>\n",
       "      <th>12</th>\n",
       "      <td>800</td>\n",
       "      <td>0.0</td>\n",
       "      <td>0.084359</td>\n",
       "      <td>0.145378</td>\n",
       "      <td>0.103543</td>\n",
       "      <td>0.066244</td>\n",
       "      <td>0.090983</td>\n",
       "      <td>0.123245</td>\n",
       "    </tr>\n",
       "    <tr>\n",
       "      <th>16</th>\n",
       "      <td>1000</td>\n",
       "      <td>0.0</td>\n",
       "      <td>0.090737</td>\n",
       "      <td>0.060439</td>\n",
       "      <td>0.083785</td>\n",
       "      <td>0.099277</td>\n",
       "      <td>0.092707</td>\n",
       "      <td>0.061331</td>\n",
       "    </tr>\n",
       "    <tr>\n",
       "      <th>17</th>\n",
       "      <td>1000</td>\n",
       "      <td>0.2</td>\n",
       "      <td>0.122139</td>\n",
       "      <td>0.170454</td>\n",
       "      <td>0.123773</td>\n",
       "      <td>0.164406</td>\n",
       "      <td>0.123691</td>\n",
       "      <td>0.172299</td>\n",
       "    </tr>\n",
       "    <tr>\n",
       "      <th>13</th>\n",
       "      <td>800</td>\n",
       "      <td>0.2</td>\n",
       "      <td>0.129217</td>\n",
       "      <td>0.171957</td>\n",
       "      <td>0.123928</td>\n",
       "      <td>0.195206</td>\n",
       "      <td>0.133127</td>\n",
       "      <td>0.153401</td>\n",
       "    </tr>\n",
       "    <tr>\n",
       "      <th>18</th>\n",
       "      <td>1000</td>\n",
       "      <td>0.4</td>\n",
       "      <td>0.140837</td>\n",
       "      <td>0.283114</td>\n",
       "      <td>0.150480</td>\n",
       "      <td>0.244201</td>\n",
       "      <td>0.145613</td>\n",
       "      <td>0.263735</td>\n",
       "    </tr>\n",
       "    <tr>\n",
       "      <th>14</th>\n",
       "      <td>800</td>\n",
       "      <td>0.4</td>\n",
       "      <td>0.153894</td>\n",
       "      <td>0.240927</td>\n",
       "      <td>0.153737</td>\n",
       "      <td>0.241500</td>\n",
       "      <td>0.156339</td>\n",
       "      <td>0.227415</td>\n",
       "    </tr>\n",
       "    <tr>\n",
       "      <th>8</th>\n",
       "      <td>400</td>\n",
       "      <td>0.0</td>\n",
       "      <td>0.155443</td>\n",
       "      <td>0.127137</td>\n",
       "      <td>0.151031</td>\n",
       "      <td>0.111153</td>\n",
       "      <td>0.149174</td>\n",
       "      <td>0.145692</td>\n",
       "    </tr>\n",
       "    <tr>\n",
       "      <th>15</th>\n",
       "      <td>800</td>\n",
       "      <td>0.6</td>\n",
       "      <td>0.166591</td>\n",
       "      <td>0.332081</td>\n",
       "      <td>0.175472</td>\n",
       "      <td>0.295099</td>\n",
       "      <td>0.162987</td>\n",
       "      <td>0.347951</td>\n",
       "    </tr>\n",
       "    <tr>\n",
       "      <th>9</th>\n",
       "      <td>400</td>\n",
       "      <td>0.2</td>\n",
       "      <td>0.169759</td>\n",
       "      <td>0.166320</td>\n",
       "      <td>0.167007</td>\n",
       "      <td>0.186222</td>\n",
       "      <td>0.175518</td>\n",
       "      <td>0.148807</td>\n",
       "    </tr>\n",
       "    <tr>\n",
       "      <th>19</th>\n",
       "      <td>1000</td>\n",
       "      <td>0.6</td>\n",
       "      <td>0.170714</td>\n",
       "      <td>0.314025</td>\n",
       "      <td>0.170123</td>\n",
       "      <td>0.315624</td>\n",
       "      <td>0.164751</td>\n",
       "      <td>0.336862</td>\n",
       "    </tr>\n",
       "    <tr>\n",
       "      <th>10</th>\n",
       "      <td>400</td>\n",
       "      <td>0.4</td>\n",
       "      <td>0.176894</td>\n",
       "      <td>0.244248</td>\n",
       "      <td>0.178889</td>\n",
       "      <td>0.257471</td>\n",
       "      <td>0.179455</td>\n",
       "      <td>0.249002</td>\n",
       "    </tr>\n",
       "    <tr>\n",
       "      <th>11</th>\n",
       "      <td>400</td>\n",
       "      <td>0.6</td>\n",
       "      <td>0.206528</td>\n",
       "      <td>0.234344</td>\n",
       "      <td>0.197853</td>\n",
       "      <td>0.269683</td>\n",
       "      <td>0.197327</td>\n",
       "      <td>0.268167</td>\n",
       "    </tr>\n",
       "    <tr>\n",
       "      <th>4</th>\n",
       "      <td>200</td>\n",
       "      <td>0.0</td>\n",
       "      <td>0.226249</td>\n",
       "      <td>0.197671</td>\n",
       "      <td>0.212040</td>\n",
       "      <td>0.243519</td>\n",
       "      <td>0.220959</td>\n",
       "      <td>0.233216</td>\n",
       "    </tr>\n",
       "    <tr>\n",
       "      <th>5</th>\n",
       "      <td>200</td>\n",
       "      <td>0.2</td>\n",
       "      <td>0.228917</td>\n",
       "      <td>0.263813</td>\n",
       "      <td>0.225747</td>\n",
       "      <td>0.246879</td>\n",
       "      <td>0.234072</td>\n",
       "      <td>0.218651</td>\n",
       "    </tr>\n",
       "    <tr>\n",
       "      <th>6</th>\n",
       "      <td>200</td>\n",
       "      <td>0.4</td>\n",
       "      <td>0.231191</td>\n",
       "      <td>0.288726</td>\n",
       "      <td>0.228016</td>\n",
       "      <td>0.289698</td>\n",
       "      <td>0.237877</td>\n",
       "      <td>0.268491</td>\n",
       "    </tr>\n",
       "    <tr>\n",
       "      <th>7</th>\n",
       "      <td>200</td>\n",
       "      <td>0.6</td>\n",
       "      <td>0.242959</td>\n",
       "      <td>0.347979</td>\n",
       "      <td>0.236119</td>\n",
       "      <td>0.324066</td>\n",
       "      <td>0.241389</td>\n",
       "      <td>0.334708</td>\n",
       "    </tr>\n",
       "    <tr>\n",
       "      <th>2</th>\n",
       "      <td>100</td>\n",
       "      <td>0.4</td>\n",
       "      <td>0.320140</td>\n",
       "      <td>0.323989</td>\n",
       "      <td>0.335025</td>\n",
       "      <td>0.293307</td>\n",
       "      <td>0.336911</td>\n",
       "      <td>0.289561</td>\n",
       "    </tr>\n",
       "    <tr>\n",
       "      <th>0</th>\n",
       "      <td>100</td>\n",
       "      <td>0.0</td>\n",
       "      <td>0.322005</td>\n",
       "      <td>0.297779</td>\n",
       "      <td>0.316794</td>\n",
       "      <td>0.324295</td>\n",
       "      <td>0.318212</td>\n",
       "      <td>0.310560</td>\n",
       "    </tr>\n",
       "    <tr>\n",
       "      <th>1</th>\n",
       "      <td>100</td>\n",
       "      <td>0.2</td>\n",
       "      <td>0.322388</td>\n",
       "      <td>0.320653</td>\n",
       "      <td>0.329044</td>\n",
       "      <td>0.280435</td>\n",
       "      <td>0.320299</td>\n",
       "      <td>0.332993</td>\n",
       "    </tr>\n",
       "    <tr>\n",
       "      <th>3</th>\n",
       "      <td>100</td>\n",
       "      <td>0.6</td>\n",
       "      <td>0.331708</td>\n",
       "      <td>0.340702</td>\n",
       "      <td>0.326621</td>\n",
       "      <td>0.347443</td>\n",
       "      <td>0.324456</td>\n",
       "      <td>0.374694</td>\n",
       "    </tr>\n",
       "  </tbody>\n",
       "</table>\n",
       "</div>"
      ],
      "text/plain": [
       "    epochs  lbd  CV_1 train  CV_1 test  CV_2 train  CV_2 test  CV_3 train  \\\n",
       "12     800  0.0    0.084359   0.145378    0.103543   0.066244    0.090983   \n",
       "16    1000  0.0    0.090737   0.060439    0.083785   0.099277    0.092707   \n",
       "17    1000  0.2    0.122139   0.170454    0.123773   0.164406    0.123691   \n",
       "13     800  0.2    0.129217   0.171957    0.123928   0.195206    0.133127   \n",
       "18    1000  0.4    0.140837   0.283114    0.150480   0.244201    0.145613   \n",
       "14     800  0.4    0.153894   0.240927    0.153737   0.241500    0.156339   \n",
       "8      400  0.0    0.155443   0.127137    0.151031   0.111153    0.149174   \n",
       "15     800  0.6    0.166591   0.332081    0.175472   0.295099    0.162987   \n",
       "9      400  0.2    0.169759   0.166320    0.167007   0.186222    0.175518   \n",
       "19    1000  0.6    0.170714   0.314025    0.170123   0.315624    0.164751   \n",
       "10     400  0.4    0.176894   0.244248    0.178889   0.257471    0.179455   \n",
       "11     400  0.6    0.206528   0.234344    0.197853   0.269683    0.197327   \n",
       "4      200  0.0    0.226249   0.197671    0.212040   0.243519    0.220959   \n",
       "5      200  0.2    0.228917   0.263813    0.225747   0.246879    0.234072   \n",
       "6      200  0.4    0.231191   0.288726    0.228016   0.289698    0.237877   \n",
       "7      200  0.6    0.242959   0.347979    0.236119   0.324066    0.241389   \n",
       "2      100  0.4    0.320140   0.323989    0.335025   0.293307    0.336911   \n",
       "0      100  0.0    0.322005   0.297779    0.316794   0.324295    0.318212   \n",
       "1      100  0.2    0.322388   0.320653    0.329044   0.280435    0.320299   \n",
       "3      100  0.6    0.331708   0.340702    0.326621   0.347443    0.324456   \n",
       "\n",
       "    CV_3 test  \n",
       "12   0.123245  \n",
       "16   0.061331  \n",
       "17   0.172299  \n",
       "13   0.153401  \n",
       "18   0.263735  \n",
       "14   0.227415  \n",
       "8    0.145692  \n",
       "15   0.347951  \n",
       "9    0.148807  \n",
       "19   0.336862  \n",
       "10   0.249002  \n",
       "11   0.268167  \n",
       "4    0.233216  \n",
       "5    0.218651  \n",
       "6    0.268491  \n",
       "7    0.334708  \n",
       "2    0.289561  \n",
       "0    0.310560  \n",
       "1    0.332993  \n",
       "3    0.374694  "
      ]
     },
     "execution_count": 31,
     "metadata": {},
     "output_type": "execute_result"
    }
   ],
   "source": [
    "df.sort_values(by=['CV_1 train','CV_1 test'])"
   ]
  },
  {
   "cell_type": "code",
   "execution_count": null,
   "metadata": {},
   "outputs": [],
   "source": []
  }
 ],
 "metadata": {
  "interpreter": {
   "hash": "84e5a2fd7e25c8bcf38508d69068628463a9d9ea1454c39f49bb2bfb5f0bb0bf"
  },
  "kernelspec": {
   "display_name": "Python 3 (ipykernel)",
   "language": "python",
   "name": "python3"
  },
  "language_info": {
   "codemirror_mode": {
    "name": "ipython",
    "version": 3
   },
   "file_extension": ".py",
   "mimetype": "text/x-python",
   "name": "python",
   "nbconvert_exporter": "python",
   "pygments_lexer": "ipython3",
   "version": "3.9.7"
  }
 },
 "nbformat": 4,
 "nbformat_minor": 2
}
