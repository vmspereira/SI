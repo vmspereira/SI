{
 "cells": [
  {
   "cell_type": "code",
   "execution_count": 1,
   "id": "20bfea17",
   "metadata": {},
   "outputs": [],
   "source": [
    "import numpy as np\n",
    "from si.data import Dataset\n",
    "from si.util import train_test_split\n",
    "from si.supervised.nn import NN, Adam, RNN, SoftMax\n",
    "from si.util import multiclass_accuracy"
   ]
  },
  {
   "cell_type": "code",
   "execution_count": 2,
   "id": "a8b0028b",
   "metadata": {},
   "outputs": [],
   "source": [
    "def to_categorical(x, n_col=None):\n",
    "    \"\"\" One-hot encoding of nominal values \"\"\"\n",
    "    if not n_col:\n",
    "        n_col = np.amax(x) + 1\n",
    "    one_hot = np.zeros((x.shape[0], n_col))\n",
    "    one_hot[np.arange(x.shape[0]), x] = 1\n",
    "    return one_hot\n",
    "\n",
    "def gen_num_seq(nums):\n",
    "        \"\"\" Method which generates sequence of numbers \"\"\"\n",
    "        X = np.zeros([nums, 10, 20], dtype=float)\n",
    "        y = np.zeros([nums, 10, 20], dtype=float)\n",
    "        for i in range(nums):\n",
    "            start = np.random.randint(0, 10)\n",
    "            num_seq = np.arange(start, start+10)\n",
    "            X[i] = to_categorical(num_seq, n_col=20)\n",
    "            y[i] = np.roll(X[i], -1, axis=0)\n",
    "        y[:, -1, 1] = 1 # Mark endpoint as 1\n",
    "        return Dataset(X, y)"
   ]
  },
  {
   "cell_type": "code",
   "execution_count": 3,
   "id": "36e2950f",
   "metadata": {},
   "outputs": [],
   "source": [
    "dataset = gen_num_seq(3000)"
   ]
  },
  {
   "cell_type": "code",
   "execution_count": 4,
   "id": "9df85555",
   "metadata": {},
   "outputs": [],
   "source": [
    "train, test = train_test_split(dataset)"
   ]
  },
  {
   "cell_type": "code",
   "execution_count": 7,
   "id": "57d8602d",
   "metadata": {},
   "outputs": [],
   "source": [
    "optimizer = Adam()\n",
    "\n",
    "nn = NN(optimizer=optimizer,\n",
    "        verbose=False,\n",
    "       )\n",
    "nn.add(RNN(10, bptt_trunc=5, input_shape=(10, 20)))\n",
    "nn.add(SoftMax())"
   ]
  },
  {
   "cell_type": "code",
   "execution_count": 8,
   "id": "3e8c8be6",
   "metadata": {},
   "outputs": [
    {
     "name": "stdout",
     "output_type": "stream",
     "text": [
      "epoch 20000/20000 loss=0.0126024431336793625\r"
     ]
    }
   ],
   "source": [
    "nn.fit(train,epochs=20000)"
   ]
  }
 ],
 "metadata": {
  "kernelspec": {
   "display_name": "Python 3 (ipykernel)",
   "language": "python",
   "name": "python3"
  },
  "language_info": {
   "codemirror_mode": {
    "name": "ipython",
    "version": 3
   },
   "file_extension": ".py",
   "mimetype": "text/x-python",
   "name": "python",
   "nbconvert_exporter": "python",
   "pygments_lexer": "ipython3",
   "version": "3.10.9"
  }
 },
 "nbformat": 4,
 "nbformat_minor": 5
}
