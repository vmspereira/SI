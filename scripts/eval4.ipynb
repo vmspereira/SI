{
 "cells": [
  {
   "cell_type": "markdown",
   "id": "f07b8dde",
   "metadata": {},
   "source": [
    "# Neural Networks"
   ]
  },
  {
   "cell_type": "markdown",
   "id": "423f292f",
   "metadata": {},
   "source": [
    "## XNOR"
   ]
  },
  {
   "cell_type": "code",
   "execution_count": 1,
   "id": "698c23e4",
   "metadata": {},
   "outputs": [],
   "source": [
    "import numpy as np\n",
    "from si.data import Dataset\n",
    "\n",
    "X = np.array([[0,0], \n",
    "              [0,1], \n",
    "              [1,0], \n",
    "              [1,1]])\n",
    "\n",
    "y = np.array([[1], \n",
    "              [0], \n",
    "              [0], \n",
    "              [1]])\n",
    "\n",
    "dataset = Dataset(X,y,['X1','X2'],'X1 XNOR X2')"
   ]
  },
  {
   "cell_type": "code",
   "execution_count": 2,
   "id": "5539ea95",
   "metadata": {},
   "outputs": [
    {
     "data": {
      "text/html": [
       "<div>\n",
       "<style scoped>\n",
       "    .dataframe tbody tr th:only-of-type {\n",
       "        vertical-align: middle;\n",
       "    }\n",
       "\n",
       "    .dataframe tbody tr th {\n",
       "        vertical-align: top;\n",
       "    }\n",
       "\n",
       "    .dataframe thead th {\n",
       "        text-align: right;\n",
       "    }\n",
       "</style>\n",
       "<table border=\"1\" class=\"dataframe\">\n",
       "  <thead>\n",
       "    <tr style=\"text-align: right;\">\n",
       "      <th></th>\n",
       "      <th>X1</th>\n",
       "      <th>X2</th>\n",
       "      <th>X1 XNOR X2</th>\n",
       "    </tr>\n",
       "  </thead>\n",
       "  <tbody>\n",
       "    <tr>\n",
       "      <th>0</th>\n",
       "      <td>0</td>\n",
       "      <td>0</td>\n",
       "      <td>1</td>\n",
       "    </tr>\n",
       "    <tr>\n",
       "      <th>1</th>\n",
       "      <td>0</td>\n",
       "      <td>1</td>\n",
       "      <td>0</td>\n",
       "    </tr>\n",
       "    <tr>\n",
       "      <th>2</th>\n",
       "      <td>1</td>\n",
       "      <td>0</td>\n",
       "      <td>0</td>\n",
       "    </tr>\n",
       "    <tr>\n",
       "      <th>3</th>\n",
       "      <td>1</td>\n",
       "      <td>1</td>\n",
       "      <td>1</td>\n",
       "    </tr>\n",
       "  </tbody>\n",
       "</table>\n",
       "</div>"
      ],
      "text/plain": [
       "   X1  X2  X1 XNOR X2\n",
       "0   0   0           1\n",
       "1   0   1           0\n",
       "2   1   0           0\n",
       "3   1   1           1"
      ]
     },
     "execution_count": 2,
     "metadata": {},
     "output_type": "execute_result"
    }
   ],
   "source": [
    "dataset.toDataframe()"
   ]
  },
  {
   "cell_type": "code",
   "execution_count": 3,
   "id": "049da626",
   "metadata": {},
   "outputs": [],
   "source": [
    "from si.supervised.nn import NN, Dense, Sigmoid, Tanh"
   ]
  },
  {
   "cell_type": "code",
   "execution_count": 4,
   "id": "34441798",
   "metadata": {},
   "outputs": [],
   "source": [
    "# layer1 weights from the class presentation\n",
    "w1 = np.array([[20,-20],[20,-20]])\n",
    "b1 = np.array([[-30, 10]])\n",
    "l1 = Dense(2, 2)\n",
    "l1.set_weights(w1,b1)"
   ]
  },
  {
   "cell_type": "code",
   "execution_count": 5,
   "id": "8d7487af",
   "metadata": {},
   "outputs": [],
   "source": [
    "# layer2 weights from the class presentation\n",
    "w2 = np.array([[20],[20]])\n",
    "b2 = np.array([[-10]])\n",
    "l2 = Dense(2, 1)\n",
    "l2.set_weights(w2,b2)"
   ]
  },
  {
   "cell_type": "code",
   "execution_count": 6,
   "id": "7d19b8db",
   "metadata": {},
   "outputs": [],
   "source": [
    "# Build the NN\n",
    "nn = NN()\n",
    "nn.add(l1)\n",
    "nn.add(Sigmoid())\n",
    "nn.add(l2)\n",
    "nn.add(Sigmoid())\n",
    "# sets the model as fitted\n",
    "nn.is_fitted = True"
   ]
  },
  {
   "cell_type": "code",
   "execution_count": 7,
   "id": "b8f8ed58",
   "metadata": {},
   "outputs": [
    {
     "data": {
      "text/plain": [
       "array([[9.99954561e-01],\n",
       "       [4.54803785e-05],\n",
       "       [4.54803785e-05],\n",
       "       [9.99954561e-01]])"
      ]
     },
     "execution_count": 7,
     "metadata": {},
     "output_type": "execute_result"
    }
   ],
   "source": [
    "nn.predict(dataset.X)"
   ]
  },
  {
   "cell_type": "code",
   "execution_count": 8,
   "id": "9b180a33",
   "metadata": {},
   "outputs": [
    {
     "data": {
      "text/plain": [
       "2.066588540474394e-09"
      ]
     },
     "execution_count": 8,
     "metadata": {},
     "output_type": "execute_result"
    }
   ],
   "source": [
    "nn.cost(dataset.X,dataset.y)"
   ]
  },
  {
   "cell_type": "markdown",
   "id": "2983e966",
   "metadata": {},
   "source": [
    "## Train the model using backpropagation"
   ]
  },
  {
   "cell_type": "code",
   "execution_count": 9,
   "id": "fd6986ea",
   "metadata": {},
   "outputs": [],
   "source": [
    "nn2 = NN(epochs=2000,lr=0.1, verbose=False,loss='cross_entropy')\n",
    "nn2.add(Dense(2, 2))\n",
    "nn2.add(Tanh())\n",
    "nn2.add(Dense(2, 1))\n",
    "nn2.add(Tanh())"
   ]
  },
  {
   "cell_type": "code",
   "execution_count": 10,
   "id": "8dc1623c",
   "metadata": {},
   "outputs": [
    {
     "name": "stdout",
     "output_type": "stream",
     "text": [
      "epoch 100/2000 loss=0.25094301240955674\r",
      "epoch 200/2000 loss=0.24906121209725052\r",
      "epoch 300/2000 loss=0.24768423090250902\r",
      "epoch 400/2000 loss=0.24457144604029735\r",
      "epoch 500/2000 loss=0.23420213625799627\r",
      "epoch 600/2000 loss=0.1926471010753154\r",
      "epoch 700/2000 loss=0.07839360981743347\r",
      "epoch 800/2000 loss=0.01877582853660292\r",
      "epoch 900/2000 loss=0.00747409799032917\r",
      "epoch 1000/2000 loss=0.004209137305379973\r",
      "epoch 1100/2000 loss=0.002818492656453058\r",
      "epoch 1200/2000 loss=0.00207974797802993\r",
      "epoch 1300/2000 loss=0.0016308145270939255\r",
      "epoch 1400/2000 loss=0.0013326080782588984\r",
      "epoch 1500/2000 loss=0.0011216867734443149\r",
      "epoch 1600/2000 loss=0.0009654019011846105\r",
      "epoch 1700/2000 loss=0.0008453876256972741\r",
      "epoch 1800/2000 loss=0.0007505828389230783\r",
      "epoch 1900/2000 loss=0.0006739565150281051\r",
      "epoch 2000/2000 loss=0.000610839746766549\r"
     ]
    }
   ],
   "source": [
    "nn2.fit(dataset)"
   ]
  },
  {
   "cell_type": "code",
   "execution_count": 11,
   "id": "77ecee76",
   "metadata": {},
   "outputs": [
    {
     "data": {
      "text/plain": [
       "array([[1.],\n",
       "       [0.],\n",
       "       [0.],\n",
       "       [1.]])"
      ]
     },
     "execution_count": 11,
     "metadata": {},
     "output_type": "execute_result"
    }
   ],
   "source": [
    "np.round(nn2.predict(X))"
   ]
  },
  {
   "cell_type": "code",
   "execution_count": 12,
   "id": "9c39308d",
   "metadata": {},
   "outputs": [
    {
     "data": {
      "image/png": "[encoded data removed]",
      "text/plain": [
       "<Figure size 640x480 with 1 Axes>"
      ]
     },
     "metadata": {},
     "output_type": "display_data"
    }
   ],
   "source": [
    "import matplotlib.pyplot as plt\n",
    "%matplotlib inline\n",
    "plt.plot(list(nn2.history.keys()), [x[0] for x in nn2.history.values()], '-', color='red')\n",
    "plt.title('Loss')\n",
    "plt.show()"
   ]
  },
  {
   "cell_type": "code",
   "execution_count": 13,
   "id": "04a1ec14",
   "metadata": {},
   "outputs": [
    {
     "data": {
      "text/plain": [
       "array([[1.],\n",
       "       [0.],\n",
       "       [0.],\n",
       "       [1.]])"
      ]
     },
     "execution_count": 13,
     "metadata": {},
     "output_type": "execute_result"
    }
   ],
   "source": [
    "np.round(nn2.predict(dataset.X))"
   ]
  },
  {
   "cell_type": "code",
   "execution_count": 14,
   "id": "886c304d",
   "metadata": {},
   "outputs": [
    {
     "data": {
      "text/plain": [
       "0.0006102650147644683"
      ]
     },
     "execution_count": 14,
     "metadata": {},
     "output_type": "execute_result"
    }
   ],
   "source": [
    "nn2.cost(dataset.X,dataset.y)"
   ]
  }
 ],
 "metadata": {
  "kernelspec": {
   "display_name": "Python 3 (ipykernel)",
   "language": "python",
   "name": "python3"
  },
  "language_info": {
   "codemirror_mode": {
    "name": "ipython",
    "version": 3
   },
   "file_extension": ".py",
   "mimetype": "text/x-python",
   "name": "python",
   "nbconvert_exporter": "python",
   "pygments_lexer": "ipython3",
   "version": "3.10.8"
  },
  "vscode": {
   "interpreter": {
    "hash": "5c00cc7f03e7c67a5a7836530af465798fa4e6c37ce32ffc7d94998453f20ac9"
   }
  }
 },
 "nbformat": 4,
 "nbformat_minor": 5
}
